{
 "cells": [
  {
   "cell_type": "markdown",
   "metadata": {},
   "source": [
    "## 2D MD"
   ]
  },
  {
   "cell_type": "code",
   "execution_count": 3,
   "metadata": {},
   "outputs": [
    {
     "name": "stderr",
     "output_type": "stream",
     "text": [
      "WARNING: replacing module MD.\n"
     ]
    }
   ],
   "source": [
    "cd(dirname(@__FILE__))\n",
    "include(\"MD.jl\")\n",
    "datapath = \"../Data/\"\n",
    "Figurepath = \"../Figs/\"\n",
    "using Plots, Statistics, StatsBase, LaTeXStrings, JLD"
   ]
  },
  {
   "cell_type": "code",
   "execution_count": 6,
   "metadata": {},
   "outputs": [
    {
     "ename": "ErrorException",
     "evalue": "syntax: invalid assignment location \"1\" around c:\\Users\\Narges\\Documents\\GitHub\\computational_physics\\MD\\NoteBook.ipynb:1",
     "output_type": "error",
     "traceback": [
      "syntax: invalid assignment location \"1\" around c:\\Users\\Narges\\Documents\\GitHub\\computational_physics\\MD\\NoteBook.ipynb:1\n",
      "\n",
      "Stacktrace:\n",
      "  [1] top-level scope\n",
      "    @ c:\\Users\\Narges\\Documents\\GitHub\\computational_physics\\MD\\NoteBook.ipynb:1\n",
      "  [2] eval\n",
      "    @ .\\boot.jl:360 [inlined]\n",
      "  [3] include_string(mapexpr::typeof(REPL.softscope), mod::Module, code::String, filename::String)\n",
      "    @ Base .\\loading.jl:1116\n",
      "  [4] #invokelatest#2\n",
      "    @ .\\essentials.jl:708 [inlined]\n",
      "  [5] invokelatest\n",
      "    @ .\\essentials.jl:706 [inlined]\n",
      "  [6] (::VSCodeServer.var\"#146#147\"{VSCodeServer.NotebookRunCellArguments, String})()\n",
      "    @ VSCodeServer c:\\Users\\Narges\\.vscode\\extensions\\julialang.language-julia-1.5.10\\scripts\\packages\\VSCodeServer\\src\\serve_notebook.jl:18\n",
      "  [7] withpath(f::VSCodeServer.var\"#146#147\"{VSCodeServer.NotebookRunCellArguments, String}, path::String)\n",
      "    @ VSCodeServer c:\\Users\\Narges\\.vscode\\extensions\\julialang.language-julia-1.5.10\\scripts\\packages\\VSCodeServer\\src\\repl.jl:185\n",
      "  [8] notebook_runcell_request(conn::VSCodeServer.JSONRPC.JSONRPCEndpoint{Base.PipeEndpoint, Base.PipeEndpoint}, params::VSCodeServer.NotebookRunCellArguments)\n",
      "    @ VSCodeServer c:\\Users\\Narges\\.vscode\\extensions\\julialang.language-julia-1.5.10\\scripts\\packages\\VSCodeServer\\src\\serve_notebook.jl:14\n",
      "  [9] dispatch_msg(x::VSCodeServer.JSONRPC.JSONRPCEndpoint{Base.PipeEndpoint, Base.PipeEndpoint}, dispatcher::VSCodeServer.JSONRPC.MsgDispatcher, msg::Dict{String, Any})\n",
      "    @ VSCodeServer.JSONRPC c:\\Users\\Narges\\.vscode\\extensions\\julialang.language-julia-1.5.10\\scripts\\packages\\JSONRPC\\src\\typed.jl:67\n",
      " [10] serve_notebook(pipename::String; crashreporting_pipename::String)\n",
      "    @ VSCodeServer c:\\Users\\Narges\\.vscode\\extensions\\julialang.language-julia-1.5.10\\scripts\\packages\\VSCodeServer\\src\\serve_notebook.jl:94\n",
      " [11] top-level scope\n",
      "    @ c:\\Users\\Narges\\.vscode\\extensions\\julialang.language-julia-1.5.10\\scripts\\notebook\\notebook.jl:12\n",
      " [12] include(mod::Module, _path::String)\n",
      "    @ Base .\\Base.jl:386\n",
      " [13] exec_options(opts::Base.JLOptions)\n",
      "    @ Base .\\client.jl:285\n",
      " [14] _start()\n",
      "    @ Base .\\client.jl:485"
     ]
    }
   ],
   "source": [
    "N = 100; T₀ = 1.0, h = 0.0015; L = 50.0\n",
    "md = MD.initialize(N, T₀ , L, h)\n",
    "\n",
    "Poses = zeros(stepnum, 2, N)\n",
    "Velocities = zeros(stepnum, 2, N)\n",
    "\n",
    "Potentials = zeros(step_num)\n",
    "Kinetics = zeros(step_num)\n",
    "Temps = zeros(step_num)\n",
    "pressures = zeros(step_num)\n",
    "\n",
    "for i ∈ 1:step_num\n",
    "    MDSim.Sim_process(sys)\n",
    "    PosColl[i, :, :] = sys.r\n",
    "    VelColl[i, :, :] = sys.v\n",
    "    UColl[i] = sys.Eᵤ\n",
    "    KColl[i] = sys.Eₖ\n",
    "    TColl[i] = sys.T\n",
    "    PColl[i] = sys.P\n",
    "    next!(Prog)\n",
    "    update!(Prog)\n",
    "end\n",
    "save(datapath * \"SingleData.jld\",\n",
    "    \"Poses\", Poses, \"Velocities\", Velocities, \"Potentials\", Potentials, \n",
    "    \"Kinetics\", Kinetics, \"Temps\", Temps, \"Pressures\", Pressures)"
   ]
  }
 ],
 "metadata": {
  "kernelspec": {
   "display_name": "Julia 1.6.2",
   "language": "julia",
   "name": "julia-1.6"
  },
  "language_info": {
   "file_extension": ".jl",
   "mimetype": "application/julia",
   "name": "julia",
   "version": "1.6.2"
  },
  "orig_nbformat": 4
 },
 "nbformat": 4,
 "nbformat_minor": 2
}
