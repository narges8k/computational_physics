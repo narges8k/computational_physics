{
 "cells": [
  {
   "cell_type": "code",
   "execution_count": null,
   "source": [
    "#this function does the rotation of the tail points\r\n",
    "function rotation(p, teta)\r\n",
    "    rotmatrix=[cos(teta) -sin(teta); sin(teta) cos(teta)]\r\n",
    "    tailp=p*rotmatrix\r\n",
    "    #converting to the main coordinate\r\n",
    "    return (tailp+headp)\r\n",
    "end"
   ],
   "outputs": [],
   "metadata": {}
  },
  {
   "cell_type": "code",
   "execution_count": null,
   "source": [
    "#this function transmits the head and tail points\r\n",
    "function transmit(head ,tail, d)\r\n",
    "    headp=tail\r\n",
    "    tailp=headp+d\r\n",
    "    return tailp,headp\r\n",
    "end\r\n"
   ],
   "outputs": [],
   "metadata": {}
  },
  {
   "cell_type": "code",
   "execution_count": null,
   "source": [
    "#this function inculdes all the operations on a vector\r\n",
    "#x is the length of the vector\r\n",
    "function operation(v,x)\r\n",
    "    #the first transmittion(1/3*x)\r\n",
    "    tailp,headp=transmit(head, tail, x/3)\r\n",
    "    #we should change the coordinates in order to rotate the tail properly\r\n",
    "    rotation((tailp-headp),(pi/3))\r\n",
    "    \r\n",
    "\r\n",
    "\r\n",
    "\r\n"
   ],
   "outputs": [],
   "metadata": {}
  },
  {
   "cell_type": "code",
   "execution_count": null,
   "source": [
    "vector=Array{Float64}(undef, 1,2)"
   ],
   "outputs": [],
   "metadata": {}
  }
 ],
 "metadata": {
  "orig_nbformat": 4,
  "language_info": {
   "name": "julia"
  },
  "kernelspec": {
   "name": "julia-1.6",
   "display_name": "Julia 1.6.2",
   "language": "julia"
  }
 },
 "nbformat": 4,
 "nbformat_minor": 2
}