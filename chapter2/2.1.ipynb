{
 "cells": [
  {
   "cell_type": "code",
   "execution_count": 2,
   "source": [
    "using Plots"
   ],
   "outputs": [],
   "metadata": {}
  },
  {
   "cell_type": "code",
   "execution_count": 3,
   "source": [
    "#this function does the rotation of the tail points\r\n",
    "function rotation(headp,tailp, teta)\r\n",
    "    rotmatrix=[cos(teta) -sin(teta); sin(teta) cos(teta)]\r\n",
    "    tailp=tailp*rotmatrix\r\n",
    "    #converting to the main coordinate\r\n",
    "    return (tailp + headp)\r\n",
    "end"
   ],
   "outputs": [
    {
     "output_type": "execute_result",
     "data": {
      "text/plain": [
       "rotation (generic function with 1 method)"
      ]
     },
     "metadata": {},
     "execution_count": 3
    }
   ],
   "metadata": {}
  },
  {
   "cell_type": "code",
   "execution_count": 4,
   "source": [
    "#this function transmits the head and tail points\r\n",
    "function transmit(head, d)\r\n",
    "    headp=head +d\r\n",
    "    tailp=headp +d\r\n",
    "    return tailp,headp\r\n",
    "end"
   ],
   "outputs": [
    {
     "output_type": "execute_result",
     "data": {
      "text/plain": [
       "transmit (generic function with 1 method)"
      ]
     },
     "metadata": {},
     "execution_count": 4
    }
   ],
   "metadata": {}
  },
  {
   "cell_type": "code",
   "execution_count": 11,
   "source": [
    "#this function inculdes all the operations on a vector\r\n",
    "#what we need are:  the coordinates of this current_vector, the current_vector's points' list,the head and tail of this current_vector\r\n",
    "function operation(current_vector, head, tail)\r\n",
    "    #the first transmittion(1/3*x)\r\n",
    "    tail2,head2=transmit(head, current_vector/3)\r\n",
    "    #we should change the coordinates in order to rotate the tail properly\r\n",
    "    tail2=rotation(head2,(tail2-head2),(pi/3))\r\n",
    "    #the second transmition(2/3*x)\r\n",
    "    tail3,head3=transmit(head,((2/3)*(current_vector)))\r\n",
    "    #the rotation now is 2pi/3, leaving the head of this vector be the head of the following vector, too\r\n",
    "    tail3=rotation(head3,(tail3-head3),(2*pi/3))\r\n",
    "\r\n",
    "   \r\n",
    "    finalcv=[[head, head2], [head2, tail2], [head3, tail3], [head3, tail]]\r\n",
    "    \r\n",
    "    return finalcv\r\n",
    "end"
   ],
   "outputs": [
    {
     "output_type": "execute_result",
     "data": {
      "text/plain": [
       "operation (generic function with 1 method)"
      ]
     },
     "metadata": {},
     "execution_count": 11
    }
   ],
   "metadata": {}
  },
  {
   "cell_type": "code",
   "execution_count": 12,
   "source": [
    "main_v_list=[[[0 0] ,[1 0]]]\r\n",
    "for i in main_v_list\r\n",
    "    head=i[1]\r\n",
    "    tail=i[end]\r\n",
    "    #x=sqrt((head[1]^2 - tail[1]^2)+ (head[2]^2 - tail[2]^2))\r\n",
    "    v=tail- head\r\n",
    "    finalcv=operation(v, head, tail)\r\n",
    "    print(finalcv)\r\n",
    "    #append!(finalcv, main_v_list)\r\n",
    "end"
   ],
   "outputs": [
    {
     "output_type": "stream",
     "name": "stdout",
     "text": [
      "[[[0.0 0.0], [0.3333333333333333 0.0]], [[0.3333333333333333 0.0], [0.5 -0.28867513459481287]], [[0.6666666666666666 0.0], [0.3333333333333335 -0.5773502691896257]], [[0.6666666666666666 0.0], [1.0 0.0]]]"
     ]
    }
   ],
   "metadata": {}
  },
  {
   "cell_type": "code",
   "execution_count": null,
   "source": [],
   "outputs": [],
   "metadata": {}
  }
 ],
 "metadata": {
  "orig_nbformat": 4,
  "language_info": {
   "file_extension": ".jl",
   "name": "julia",
   "mimetype": "application/julia",
   "version": "1.6.2"
  },
  "kernelspec": {
   "name": "julia-1.6",
   "display_name": "Julia 1.6.2",
   "language": "julia"
  }
 },
 "nbformat": 4,
 "nbformat_minor": 2
}