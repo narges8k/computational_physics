{
 "cells": [
  {
   "cell_type": "code",
   "execution_count": null,
   "source": [
    "function rotation(v, teta)\r\n",
    "    rotmatrix=[cos(teta) -sin(teta); sin(teta) cos(teta)]\r\n",
    "    vprime=v*rotmatrix\r\n",
    "    return vprime\r\n",
    "end"
   ],
   "outputs": [],
   "metadata": {}
  },
  {
   "cell_type": "code",
   "execution_count": null,
   "source": [
    "function transmit(head_co),v, x)\r\n",
    "    nextv=x*v+head_co\r\n",
    "    return nextv\r\n",
    "end\r\n"
   ],
   "outputs": [],
   "metadata": {}
  },
  {
   "cell_type": "code",
   "execution_count": null,
   "source": [
    "v=Array{Float64}(undef, 1,2)"
   ],
   "outputs": [],
   "metadata": {}
  }
 ],
 "metadata": {
  "orig_nbformat": 4,
  "language_info": {
   "name": "julia"
  },
  "kernelspec": {
   "name": "julia-1.6",
   "display_name": "Julia 1.6.2"
  }
 },
 "nbformat": 4,
 "nbformat_minor": 2
}