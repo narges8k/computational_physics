{
 "cells": [
  {
   "cell_type": "markdown",
   "metadata": {},
   "source": [
    "#  Ordinary Differential Equations Algorithms"
   ]
  },
  {
   "cell_type": "markdown",
   "metadata": {},
   "source": [
    "### Packages and Configurations "
   ]
  },
  {
   "cell_type": "code",
   "execution_count": 12,
   "metadata": {},
   "outputs": [
    {
     "name": "stderr",
     "output_type": "stream",
     "text": [
      "WARNING: replacing module DiffSolving.\n"
     ]
    }
   ],
   "source": [
    "include(\"DiffSolving.jl\")\n",
    "using Plots, LaTeXStrings\n",
    "cd(dirname(@__FILE__))"
   ]
  },
  {
   "cell_type": "markdown",
   "metadata": {},
   "source": [
    "### RC Circuit"
   ]
  },
  {
   "cell_type": "markdown",
   "metadata": {},
   "source": [
    "##### *Comparison Between Euler Method and Numerical Solution*"
   ]
  },
  {
   "cell_type": "code",
   "execution_count": 15,
   "metadata": {},
   "outputs": [],
   "source": [
    "rc=1.0; tₘᵢₙ=0.0; tₘₐₓ=5.0; Δt=0.01; q₀=1.0; xᵢₙᵢₜ = 0.0\n",
    "t_range, Q=DiffSolving.EulerMethod((t,x)->(q₀ .- x )/rc, xᵢₙᵢₜ, tₘᵢₙ, tₘₐₓ, Δt)\n",
    "plot(t_range, Q,label=\"Euler Method\",ylabel=L\"Q(t)\",xlabel=\"t(s)\",title=L\"\\Delta t=0.01s\", dpi=400, color=:orchid4, linewidth=3)\n",
    "plot!(t -> q₀ *(1 - exp(-t/rc)), label=\"Numerical Solution\", linewidth=3, color=:pink1, linestyle=:dash, legend=:bottomright)\n",
    "savefig(\"../../computational_physics/PSet9/Figs/Euler_compare.pdf\")"
   ]
  },
  {
   "cell_type": "markdown",
   "metadata": {},
   "source": [
    "##### *Error Plot*"
   ]
  },
  {
   "cell_type": "code",
   "execution_count": null,
   "metadata": {},
   "outputs": [],
   "source": []
  }
 ],
 "metadata": {
  "kernelspec": {
   "display_name": "Julia 1.6.2",
   "language": "julia",
   "name": "julia-1.6"
  },
  "language_info": {
   "file_extension": ".jl",
   "mimetype": "application/julia",
   "name": "julia",
   "version": "1.6.2"
  },
  "orig_nbformat": 4
 },
 "nbformat": 4,
 "nbformat_minor": 2
}
