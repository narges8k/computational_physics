{
 "cells": [
  {
   "cell_type": "markdown",
   "metadata": {},
   "source": [
    "#  Ordinary Differential Equations Algorithms"
   ]
  },
  {
   "cell_type": "markdown",
   "metadata": {},
   "source": [
    "### Packages and Configurations "
   ]
  },
  {
   "cell_type": "code",
   "execution_count": 21,
   "metadata": {},
   "outputs": [
    {
     "name": "stderr",
     "output_type": "stream",
     "text": [
      "WARNING: replacing module DiffSolving.\n"
     ]
    }
   ],
   "source": [
    "include(\"DiffSolving.jl\")\n",
    "using Plots, LaTeXStrings\n",
    "cd(dirname(@__FILE__))"
   ]
  },
  {
   "cell_type": "markdown",
   "metadata": {},
   "source": [
    "## First Order ODE"
   ]
  },
  {
   "cell_type": "markdown",
   "metadata": {},
   "source": [
    "### RC Circuit"
   ]
  },
  {
   "cell_type": "markdown",
   "metadata": {},
   "source": [
    "##### *Comparison Between Euler Method and Numerical Solution*"
   ]
  },
  {
   "cell_type": "code",
   "execution_count": 10,
   "metadata": {},
   "outputs": [],
   "source": [
    "rc=1.0; tₘᵢₙ=0.0; tₘₐₓ=5.0; h=0.01; q₀=1.0\n",
    "t_range, Q=DiffSolving.EulerMethod((t,x)->(q₀ .- x )/rc, [0.0], tₘᵢₙ, tₘₐₓ, h)\n",
    "plot(t_range, Q,label=\"Euler Method\",ylabel=L\"Q(t)\",xlabel=\"t(s)\",title=L\"\\Delta t=0.01s\", dpi=400, color=:orchid4, linewidth=3)\n",
    "plot!(t -> q₀ *(1 - exp(-t/rc)), label=\"Numerical Solution\", linewidth=3, color=:pink1, linestyle=:dash, legend=:bottomright)\n",
    "savefig(\"../../computational_physics/PSet9/Figs/Euler_compare.pdf\")"
   ]
  },
  {
   "cell_type": "markdown",
   "metadata": {},
   "source": [
    "##### *Error Plot*"
   ]
  },
  {
   "cell_type": "code",
   "execution_count": 25,
   "metadata": {},
   "outputs": [],
   "source": [
    "step_list=collect(range(0.01, 1, length=100))\n",
    "Error_list=[]\n",
    "for h in step_list\n",
    "    t_range, Q=DiffSolving.EulerMethod((t,x)->(q₀ .- x )/rc, xᵢₙᵢₜ, tₘᵢₙ, tₘₐₓ, h)\n",
    "    push!(Error_list, abs(sum(Q .- q₀ .*(1 .- exp.(-t_range ./rc)))))\n",
    "end\n",
    "plot(step_list, Error_list, ylabel=L\"Error\", xlabel=L\"Step\\ Size\",\n",
    "     title=L\"Error\\ of\\ the\\ Euler\\ Method's\\ Solution\\ for\\ different\\ Steps\",lw=2, color=:darkorange,dpi=400, legend=false)\n",
    "savefig(\"../../computational_physics/PSet9/Figs/Euler_Error.pdf\")\n"
   ]
  },
  {
   "cell_type": "markdown",
   "metadata": {},
   "source": [
    "##### *Instability for the Given Algorithm*"
   ]
  },
  {
   "cell_type": "code",
   "execution_count": 63,
   "metadata": {},
   "outputs": [],
   "source": [
    "t_range, Q=DiffSolving.InstableAlgorithm((t,x)->(q₀ .- x )/rc, xᵢₙᵢₜ, tₘᵢₙ, tₘₐₓ, 0.08)\n",
    "plot(t_range, Q, color=:darkgoldenrod2, dpi=400, label=\"Instable Solution\", xlabel=L\"t/RC\", ylabel=L\"Q(t)\")\n",
    "plot!(t -> q₀ *(1 - exp(-t/rc)), label=\"Numerical Solution\", linewidth=2, color=:brown4, linestyle=:dash, legend=:bottomright)\n",
    "savefig(\"../../computational_physics/PSet9/Figs/Instability.pdf\")"
   ]
  },
  {
   "cell_type": "markdown",
   "metadata": {},
   "source": [
    "## Second Order ODE"
   ]
  },
  {
   "cell_type": "markdown",
   "metadata": {},
   "source": [
    "### Simple Harmonic Oscillator "
   ]
  },
  {
   "cell_type": "markdown",
   "metadata": {},
   "source": [
    "##### *Place - Time Plot*"
   ]
  },
  {
   "cell_type": "code",
   "execution_count": 51,
   "metadata": {},
   "outputs": [],
   "source": [
    "xᵢₙᵢₜ , vᵢₙᵢₜ= 1.0, 0.0; step=0.1;  n=5; tₘᵢₙ=0.0; tₘₐₓ=6.0; h=0.5\n",
    "x_plot = plot(cos, tₘᵢₙ, tₘₐₓ, color=:cadetblue4, label=L\"x(t)=x_0 cos(\\omega t)\")\n",
    "v_plot = plot(t -> -sin(t), tₘᵢₙ, tₘₐₓ, color=:hotpink3, label=L\"v(t)=\\omega x_0 sin(\\omega t\")\n",
    "t_E, x_E= DiffSolving.EulerMethod((t,x)-> [x[2], -x[1]], [1.0, 0.0], tₘᵢₙ, tₘₐₓ, h)\n",
    "xPlot=plot!(x_plot,t_E ,x_E[: ,1], label=\"Euler\", ls=:dot, marker=:circle, ylabel=L\"x/x_0\")\n",
    "vPlot=plot!(v_plot,t_E, x_E[: ,2], label=\"Euler\", ls=:dot, marker=:circle, ylabel=L\"v/\\omega x_0\")\n",
    "plot!(xPlot, vPlot, layout=(1,2), dpi=400, title=\"step=0.5\", xlabel=L\"\\Delta t/\\omega\", legend=:topleft)\n",
    "savefig(\"../../computational_physics/PSet9/Figs/SHM_Euler_comparison.pdf\")\n"
   ]
  },
  {
   "cell_type": "code",
   "execution_count": 22,
   "metadata": {},
   "outputs": [
    {
     "data": {
      "text/plain": [
       "([0.0, 0.5, 1.0, 1.5, 2.0, 2.5, 3.0, 3.5, 4.0, 4.5  …  14.5, 15.0, 15.5, 16.0, 16.5, 17.0, 17.5, 18.0, 18.5, 19.0], [1.0, 0.875, 0.53125, 0.0546875, -0.435546875, -0.81689453125, -0.9940185546875, -0.922637939453125, -0.6205978393554688, -0.1634082794189453  …  -0.49539357982565374, -0.8540117779512681, -0.9991270315890657, -0.8944605273295967, -0.5661788912377285, -0.09635253233642808, 0.39756195964897934, 0.792085961722142, 0.988588473364769, 0.9379438666662038], [0.0, -0.46875, -0.8203125, -0.966796875, -0.87158203125, -0.5584716796875, -0.105743408203125, 0.37342071533203125, 0.7592296600341797, 0.9552311897277832  …  -0.8410847912076422, -0.5037334517634118, -0.04044874937832832, 0.4329481403513373, 0.7981079949931686, 0.9637408508867078, 0.88843849405857, 0.5910265137157897, 0.14585790494406203, -0.3357751800636811])"
      ]
     },
     "metadata": {},
     "output_type": "display_data"
    }
   ],
   "source": [
    "xᵢₙᵢₜ , vᵢₙᵢₜ= 1.0, 0.0; step=0.1;  n=3; tₘᵢₙ=0.0; tₘₐₓ=round(2π * n); h=0.5\n",
    "t_EC, x_EC, v_EC = DiffSolving.EulerCromer((t,x)-> -x, xᵢₙᵢₜ , vᵢₙᵢₜ, tₘᵢₙ, tₘₐₓ, h)\n",
    "t_V, x_V, v_V = DiffSolving.Verlet((t,x)-> -x, xᵢₙᵢₜ , vᵢₙᵢₜ, tₘᵢₙ, tₘₐₓ, h)\n",
    "t_VV, x_VV, v_VV = DiffSolving.VelocityVerlet((t,x)-> -x, xᵢₙᵢₜ , vᵢₙᵢₜ, tₘᵢₙ, tₘₐₓ, h)"
   ]
  },
  {
   "cell_type": "code",
   "execution_count": 59,
   "metadata": {},
   "outputs": [],
   "source": [
    "plot(cos, tₘᵢₙ, tₘₐₓ, lw=:4, label=L\"x(t)=x_0 cos(\\omega t)\", title=L\"step=0.5\",\n",
    "    color=:navajowhite, dpi=400,xlabel=L\"t/\\omega\", ylabel=L\"x/x_0\" , legendfontsize=5)\n",
    "plot!(t_EC, x_EC, label=\"Euler-Cromer\", ls=:dot,lw=4, marker=:circle, color=:violet)\n",
    "plot!(t_V, x_V, label=\"Verlet\", ls=:dot, lw=4, marker=:square, color=:midnightblue)\n",
    "plot!(t_VV, x_VV, label=\"Velocity Verlet\", ls=:dot, lw=4 , marker=:utriangle, color=:seagreen1)\n",
    "savefig(\"../../computational_physics/PSet9/Figs/SHM_x_comparison.pdf\")"
   ]
  },
  {
   "cell_type": "code",
   "execution_count": 60,
   "metadata": {},
   "outputs": [],
   "source": [
    "plot(t -> -sin(t), tₘᵢₙ, tₘₐₓ, label=L\"v(t)=\\omega x_0 sin(\\omega t\", title=L\"step=0.5\",\n",
    "    lw=4,color=:navajowhite, dpi=400,xlabel=L\"t/\\omega\", ylabel=L\"v/\\omega x_0\", legendfontsize=5)\n",
    "plot!(t_EC, v_EC, label=\"Euler-Cromer\", ls=:dot,lw=4, marker=:circle, color=:violet)\n",
    "plot!(t_V, v_V, label=\"Verlet\", ls=:dot, lw=4, marker=:square, color=:midnightblue)\n",
    "plot!(t_VV, v_VV, label=\"Velocity Verlet\", ls=:dot, lw=4 , marker=:utriangle, color=:seagreen1)\n",
    "savefig(\"../../computational_physics/PSet9/Figs/SHM_v_comparison.pdf\")\n"
   ]
  },
  {
   "cell_type": "code",
   "execution_count": null,
   "metadata": {},
   "outputs": [],
   "source": []
  }
 ],
 "metadata": {
  "kernelspec": {
   "display_name": "Julia 1.6.2",
   "language": "julia",
   "name": "julia-1.6"
  },
  "language_info": {
   "file_extension": ".jl",
   "mimetype": "application/julia",
   "name": "julia",
   "version": "1.6.2"
  },
  "orig_nbformat": 4
 },
 "nbformat": 4,
 "nbformat_minor": 2
}
