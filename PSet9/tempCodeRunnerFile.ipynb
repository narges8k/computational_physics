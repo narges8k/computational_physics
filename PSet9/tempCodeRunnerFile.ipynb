include("DiffSolving.jl")
using Plots, LaTeXStrings